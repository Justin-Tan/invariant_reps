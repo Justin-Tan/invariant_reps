{
 "cells": [
  {
   "cell_type": "markdown",
   "metadata": {},
   "source": [
    "## Mutual information minimization on Toy Gaussians"
   ]
  },
  {
   "cell_type": "markdown",
   "metadata": {},
   "source": [
    "This is a sanity check involving binary classification of bivariate Gaussians. Data is sampled from bivariate normal distributions as follows:\n",
    "\\begin{align}\n",
    "x_0 &\\sim \\mathcal{N}\\left(\\begin{pmatrix} z \\\\ 0 \\end{pmatrix}, \\begin{pmatrix} 1 & 0.5 \\\\ 0.5 & 1 \\end{pmatrix}\\right) \\\\\n",
    "x_1 &\\sim \\mathcal{N}\\left(\\begin{pmatrix} 0 \\\\ 1.5 \\end{pmatrix}, \\begin{pmatrix} 1 & 0 \\\\ 0 & 1 \\end{pmatrix}\\right)\n",
    "\\end{align}\n",
    "Where $z \\sim \\mathcal{N}(0,1)$ simulates uncertainty in the $x$-coordinate of samples drawn from the first distribution. The data is then passed through a shallow neural network, which we refer to as the classification network whose objective is to distinguish between samples drawn from each distribution.\n",
    "\n",
    "To reduce the dependency of the network on the potentially noisy $x$-variable, we penalize an estimate of the mutual information between the logits of the neural network and the $x$-coordinate of the input data. We optimize a lower bound on the mutual information through a shallow neural network of similar capacity to the classification network, which remains unchanged. The degree to which the output encoding of the classification network should be indepedent of the $x$-coordinate can be controlled through the hyperparameter $\\lambda$ in the objective function."
   ]
  },
  {
   "cell_type": "code",
   "execution_count": 9,
   "metadata": {},
   "outputs": [],
   "source": [
    "import numpy as np\n",
    "import pandas as pd\n",
    "import matplotlib.pyplot as plt\n",
    "import seaborn as sns\n",
    "import scipy\n",
    "from scipy.interpolate import griddata\n",
    "from sklearn.metrics import roc_curve, auc\n",
    "plt.style.use('seaborn-darkgrid')\n",
    "plt.style.use('seaborn-talk')\n",
    "plt.style.use('seaborn-pastel')"
   ]
  },
  {
   "cell_type": "code",
   "execution_count": 2,
   "metadata": {
    "scrolled": true
   },
   "outputs": [
    {
     "name": "stdout",
     "output_type": "stream",
     "text": [
      "\n",
      "WARNING: The TensorFlow contrib module will not be included in TensorFlow 2.0.\n",
      "For more information, please see:\n",
      "  * https://github.com/tensorflow/community/blob/master/rfcs/20180907-contrib-sunset.md\n",
      "  * https://github.com/tensorflow/addons\n",
      "If you depend on functionality not listed there, please file an issue.\n",
      "\n"
     ]
    }
   ],
   "source": [
    "import tensorflow as tf\n",
    "import tensorflow_probability as tfp\n",
    "import time, os, sys, glob\n",
    "from lnc import MI"
   ]
  },
  {
   "cell_type": "code",
   "execution_count": 46,
   "metadata": {},
   "outputs": [],
   "source": [
    "def MINE(x, y, y_prime, training, batch_size, name='MINE', actv=tf.nn.relu, dimension=2, l2_reg=False):\n",
    "    \"\"\"\n",
    "    Mutual Information Neural Estimator\n",
    "    (x,y):      Drawn from joint\n",
    "    y_prime:    Drawn from marginal\n",
    "\n",
    "    returns\n",
    "    MI:         Lower bound on mutual information between x,y\n",
    "    \"\"\"\n",
    "\n",
    "    init = tf.contrib.layers.xavier_initializer()\n",
    "    drop_rate = 0.0\n",
    "    shape = [32,32,32,32]\n",
    "    kwargs = {'center': True, 'scale': True, 'training': training, 'fused': True, 'renorm': False}\n",
    "\n",
    "    lambda_l2 = 0.001\n",
    "    regularization = tf.contrib.layers.l2_regularizer(scale=lambda_l2) if l2_reg else None\n",
    "    y_prime = tf.random_shuffle(y)\n",
    "\n",
    "    def statistic_network(t, name='stat_net', reuse=False):\n",
    "        with tf.variable_scope(name, initializer=init, reuse=reuse) as scope:\n",
    "\n",
    "            h0 = tf.layers.dense(t, units=shape[0], activation=actv, kernel_regularizer=regularization) \n",
    "            h1 = tf.layers.dense(h0, units=shape[1], activation=actv, kernel_regularizer=regularization) \n",
    "            h2 = tf.layers.dense(h1, units=shape[2], activation=actv, kernel_regularizer=regularization) \n",
    "            out = tf.layers.dense(h2, units=1, kernel_initializer=init, kernel_regularizer=regularization) \n",
    "\n",
    "        return out\n",
    "\n",
    "    def log_sum_exp_trick(x, batch_size, axis=1):\n",
    "        # Compute along batch dimension\n",
    "        x = tf.squeeze(x)\n",
    "        x_max = tf.reduce_max(x)\n",
    "        lse = x_max + tf.log(tf.reduce_sum(tf.exp(x-x_max))) - tf.log(batch_size)\n",
    "        return lse\n",
    "\n",
    "    x, y, y_prime = tf.expand_dims(tf.squeeze(x), axis=1), tf.expand_dims(tf.squeeze(y), axis=1), tf.expand_dims(tf.squeeze(y_prime), axis=1)\n",
    "    z = tf.concat([x,y], axis=1)\n",
    "    z_prime = tf.concat([x,y_prime], axis=1)\n",
    "    joint_f = statistic_network(z)\n",
    "    marginal_f = statistic_network(z_prime, reuse=True)\n",
    "\n",
    "    print('joint shape', joint_f.shape)\n",
    "    print('marginal shape', marginal_f.shape)\n",
    "    \n",
    "    MI_lower_bound = tf.squeeze(tf.reduce_mean(joint_f)) - tf.squeeze(log_sum_exp_trick(marginal_f, 1.*batch_size))\n",
    "\n",
    "    joint_loss = tf.reduce_mean(tf.nn.sigmoid_cross_entropy_with_logits(logits=joint_f,\n",
    "        labels=tf.ones_like(joint_f)))\n",
    "    marginal_loss = tf.reduce_mean(tf.nn.sigmoid_cross_entropy_with_logits(logits=marginal_f,\n",
    "        labels=tf.zeros_like(marginal_f)))\n",
    "\n",
    "    # Approximate the trained discriminator as the optimal discriminator\n",
    "    JSD_lower_bound = -(joint_loss + marginal_loss) + tf.log(4.0)\n",
    "\n",
    "    if args.MI:\n",
    "        lower_bound = MI_lower_bound\n",
    "    else:\n",
    "        lower_bound = JSD_lower_bound\n",
    "\n",
    "    return lower_bound, joint_f, marginal_f\n",
    "\n",
    "def dense_network(x, training, name='fully_connected', actv=tf.nn.relu, **kwargs):\n",
    "    # Toy dense network for binary classification\n",
    "    init = tf.contrib.layers.xavier_initializer()\n",
    "    shape = [32, 32, 32, 32, 32]\n",
    "    kwargs = {'center': True, 'scale': True, 'training': training, 'fused': True, 'renorm': True}\n",
    "\n",
    "    print('Input X shape', x.get_shape())\n",
    "\n",
    "    with tf.variable_scope(name, initializer=init, reuse=tf.AUTO_REUSE) as scope:\n",
    "        h0 = tf.layers.dense(x, units=shape[0], activation=actv)\n",
    "        # h0 = tf.layers.batch_normalization(h0, **kwargs)\n",
    "        h1 = tf.layers.dense(h0, units=shape[1], activation=actv)\n",
    "        # h1 = tf.layers.batch_normalization(h1, **kwargs)\n",
    "        h2 = tf.layers.dense(h1, units=shape[2], activation=actv)\n",
    "        # h2 = tf.layers.batch_normalization(h2, **kwargs)\n",
    "        \n",
    "    out = tf.layers.dense(h2, units=1, kernel_initializer=init)\n",
    "\n",
    "    return out\n",
    "\n",
    "def mutual_information_1D_kraskov(x, y):\n",
    "    # k-NN based estimate of mutual information\n",
    "    from lnc import MI\n",
    "    mi = MI.mi_LNC([x,y],k=5,base=np.exp(1),alpha=0.5)\n",
    "\n",
    "    return mi\n",
    "\n",
    "def scope_variables(name):\n",
    "    with tf.variable_scope(name):\n",
    "        return tf.get_collection(tf.GraphKeys.GLOBAL_VARIABLES, scope=tf.get_variable_scope().name)\n",
    "    \n",
    "def plot_decision_surface(sess, model, title='Decision Surface'):\n",
    "    data, out = [], []\n",
    "\n",
    "    for _ in range(42):\n",
    "        data_, out_ = sess.run([model.data, model.softmax])\n",
    "        data.append(data_)\n",
    "        out.append(np.squeeze(out_))\n",
    "\n",
    "    data = np.vstack(data)\n",
    "    out = np.hstack(out)\n",
    "    x_grid, y_grid = np.mgrid[-2:3:100j, -2:4:100j]\n",
    "\n",
    "    z = griddata(points=data[:,:2], values=out, xi=(x_grid, y_grid), method='cubic')\n",
    "    plt.contourf(x_grid, y_grid, z, 25, vmin=0., vmax=1., cmap=plt.cm.viridis)\n",
    "    plt.colorbar(label='Output')\n",
    "    plt.xlabel('$x$')\n",
    "    plt.ylabel('$y$')\n",
    "    plt.title(title)\n",
    "    plt.scatter([0], [0], c=\"green\", linewidths=0, label=r\"$\\mu_0$\")\n",
    "    plt.scatter([0], [1.5], c=\"blue\", linewidths=0, label=r\"$\\mu_1$\")\n",
    "    plt.legend(loc=\"upper left\")\n",
    "    # plt.savefig(os.path.join('results', 'decision_no_pen.pdf'), format='pdf', dpi=256, bbox_inches='tight')"
   ]
  },
  {
   "cell_type": "code",
   "execution_count": 4,
   "metadata": {},
   "outputs": [],
   "source": [
    "class Model():\n",
    "    def __init__(self, args):\n",
    "\n",
    "        tfd = tfp.distributions\n",
    "        self.global_step = tf.Variable(0, trainable=False)\n",
    "        self.MI_global_step = tf.Variable(0, trainable=False)\n",
    "\n",
    "        if args.dims == 2:\n",
    "            dim = 2\n",
    "            z = tf.random.normal([args.sample_size])\n",
    "            z_prime = tf.random.shuffle(z)\n",
    "            mu_x = tf.stack([z, tf.zeros(args.sample_size)], axis=-1)  # [z,0] broadcasted\n",
    "            mu_y = [0,1.5]\n",
    "\n",
    "            cov_x = [[1., 0.5], [0.5, 1.]]\n",
    "            cov_y = [[1., 0.], [0., 1.]]\n",
    "\n",
    "            standard_mvn_normal = tfd.MultivariateNormalDiag(loc=np.zeros(dim).astype(np.float32))\n",
    "            scale_x = tf.cholesky(cov_x)\n",
    "            scale_y = tf.cholesky(cov_y)\n",
    "\n",
    "            # u ~ N(0,1), v = scale @ u + loc\n",
    "            self.sample_x = tf.squeeze(tf.matmul(tf.broadcast_to(scale_x, [args.sample_size, dim, dim]),\n",
    "                tf.expand_dims(standard_mvn_normal.sample(args.sample_size), axis=-1))) + mu_x\n",
    "            self.sample_y = tf.squeeze(tf.matmul(tf.broadcast_to(scale_y, [args.sample_size, dim, dim]),\n",
    "                tf.expand_dims(standard_mvn_normal.sample(args.sample_size), axis=-1))) + mu_y\n",
    "\n",
    "            self.x_data = tf.concat([self.sample_x, tf.zeros([args.sample_size,1])], axis=1)\n",
    "            self.y_data = tf.concat([self.sample_y, tf.ones([args.sample_size,1])], axis=1)\n",
    "\n",
    "            data = tf.random.shuffle(tf.concat([self.x_data, self.y_data], axis=0))\n",
    "            idx = tf.range(tf.shape(data)[0])\n",
    "            ridx = tf.random.shuffle(idx)[:args.sample_size]\n",
    "            self.data = tf.gather(data, ridx)\n",
    "            self.labels = tf.squeeze(self.data[:,2])\n",
    "\n",
    "        with tf.variable_scope('classifier', reuse=tf.AUTO_REUSE) as scope:\n",
    "            self.logits = dense_network(x=self.data[:,:2], training=True)\n",
    "\n",
    "        with tf.variable_scope('miner', reuse=tf.AUTO_REUSE) as scope:\n",
    "            self.MI_estimate, joint_f, marginal_f = MINE(x=self.logits, y=self.data[:,0], y_prime=tf.random_shuffle(self.data[:,0]), \n",
    "                batch_size=args.sample_size, dimension=dim, training=True, actv=tf.nn.elu)\n",
    "\n",
    "        self.softmax = tf.nn.sigmoid(self.logits)\n",
    "        self.pred = tf.squeeze(tf.cast(tf.greater(self.softmax, 0.5), tf.float32))\n",
    "        self.accuracy = tf.reduce_mean(tf.cast(tf.equal(self.pred, self.labels), tf.float32))\n",
    "\n",
    "        self.cross_entropy = tf.nn.sigmoid_cross_entropy_with_logits(logits=self.logits, labels=tf.expand_dims(self.labels,axis=-1))\n",
    "        self.clf_cost = tf.reduce_mean(self.cross_entropy)\n",
    "        self.MI_estimate_kNN = tf.py_func(mutual_information_1D_kraskov, inp=[tf.squeeze(self.logits),\n",
    "            tf.squeeze(self.data[:,0])], Tout=tf.float64)\n",
    "        \n",
    "        # Alternate non-saturating updated rule for generator\n",
    "        # max_E log(D(E,Z)) = min_E H(D(E,Z),1)\n",
    "        self.NS_loss = tf.reduce_mean(tf.nn.sigmoid_cross_entropy_with_logits(logits=marginal_f, labels=tf.ones_like(marginal_f)))\n",
    "        update_ops = tf.get_collection(tf.GraphKeys.UPDATE_OPS)\n",
    "\n",
    "        if args.penalty:\n",
    "            if args.alt_update:\n",
    "                self.cost = self.clf_cost + args.lambda_MI * tf.nn.relu(self.MI_estimate + self.NS_loss)\n",
    "            else:\n",
    "                self.cost = self.clf_cost + args.lambda_MI * tf.nn.relu(self.MI_estimate)\n",
    "        else:\n",
    "            self.cost = self.clf_cost\n",
    "        \n",
    "        lr = args.lr_E\n",
    "        theta_f = scope_variables('classifier')\n",
    "        theta_MINE = scope_variables('miner')\n",
    "        print('Classifier Parameters', theta_f)\n",
    "        print('MI-est Parameters', theta_MINE)\n",
    "        args.optimizer = args.optimizer.lower()\n",
    "        if args.optimizer == 'adam':\n",
    "            self.opt = tf.train.AdamOptimizer(lr)\n",
    "        elif args.optimizer == 'momentum':\n",
    "            self.opt = tf.train.MomentumOptimizer(lr, momentum=0.9, use_nesterov=True)\n",
    "        elif args.optimizer == 'rmsprop':\n",
    "            self.opt = tf.train.RMSPropOptimizer(lr)\n",
    "        elif args.optimizer == 'sgd':\n",
    "            self.opt = tf.train.GradientDescentOptimizer(lr)\n",
    "\n",
    "        with tf.variable_scope('opt', reuse=tf.AUTO_REUSE) as scope:\n",
    "            self.MI_opt = tf.train.AdamOptimizer(args.lr_T)\n",
    "            self.grads_clf = self.opt.compute_gradients(self.clf_cost, var_list=theta_f)\n",
    "            self.grads_mi_clf =  self.opt.compute_gradients(self.MI_estimate, var_list=theta_f)\n",
    "            self.grads_mi_est = self.MI_opt.compute_gradients(-self.MI_estimate, var_list=theta_MINE)\n",
    "            self.MINE_opt_op = self.MI_opt.minimize(-self.MI_estimate, global_step=self.MI_global_step,\n",
    "                    var_list=theta_MINE)\n",
    "            \n",
    "            with tf.control_dependencies(update_ops):\n",
    "                # Ensures that we execute the update_ops before performing the train_step\n",
    "                self.opt_op = self.opt.minimize(self.cost, global_step=self.global_step, var_list=theta_f)"
   ]
  },
  {
   "cell_type": "code",
   "execution_count": 70,
   "metadata": {},
   "outputs": [],
   "source": [
    "class args(object):\n",
    "    rho = 0.5\n",
    "    sample_size = 512\n",
    "    dims = 2\n",
    "    lr_E = 1e-4\n",
    "    lr_T = 1e-3\n",
    "    optimizer = 'adam'\n",
    "    name = 'toy-MI'\n",
    "    lambda_MI = 10.0\n",
    "    penalty = False\n",
    "    MI_iters = 4\n",
    "    MI = False\n",
    "    alt_update = False"
   ]
  },
  {
   "cell_type": "code",
   "execution_count": 56,
   "metadata": {},
   "outputs": [],
   "source": [
    "def train(args):\n",
    "\n",
    "    start_time = time.time()\n",
    "    ckpt = tf.train.get_checkpoint_state('checkpoints')\n",
    "\n",
    "    # Build graph\n",
    "    model = Model(args)\n",
    "    saver = tf.train.Saver()\n",
    "\n",
    "    sess = tf.InteractiveSession(config=tf.ConfigProto(allow_soft_placement=True, log_device_placement=False))\n",
    "    # with tf.Session(config=tf.ConfigProto(allow_soft_placement=True, log_device_placement=False)) as sess:\n",
    "    sess.run(tf.global_variables_initializer())\n",
    "    sess.run(tf.local_variables_initializer())\n",
    "    steps = 5e3\n",
    "    \n",
    "    for step in range(int(steps)):\n",
    "        sess.run(model.opt_op)   \n",
    "        \n",
    "        if args.penalty:\n",
    "            for MI_step in range(args.MI_iters):\n",
    "                sess.run(model.MINE_opt_op)\n",
    "                \n",
    "        if step % 128 == 0:\n",
    "            if args.dims == 2:\n",
    "                MI_est, MI_kNN, acc, y, y_hat = sess.run([model.MI_estimate, model.MI_estimate_kNN, model.accuracy,\n",
    "                    model.labels, model.pred])\n",
    "\n",
    "                print('MINE: {:.3f} | kNN: {:.3f} | Accuracy: {:.3f} | ({:.2f} s)'.format(MI_est,\n",
    "                    MI_kNN, acc, time.time()-start_time))\n",
    "\n",
    "    print(\"Training Complete. Time elapsed: {:.3f} s\".format(time.time()-start_time))\n",
    "    \n",
    "    return sess, model"
   ]
  },
  {
   "cell_type": "code",
   "execution_count": 53,
   "metadata": {},
   "outputs": [],
   "source": [
    "sess_p.close()"
   ]
  },
  {
   "cell_type": "code",
   "execution_count": 57,
   "metadata": {
    "scrolled": true
   },
   "outputs": [
    {
     "name": "stdout",
     "output_type": "stream",
     "text": [
      "Input X shape (512, 2)\n",
      "joint shape (512, 1)\n",
      "marginal shape (512, 1)\n",
      "Classifier Parameters [<tf.Variable 'classifier/fully_connected/dense/kernel:0' shape=(2, 32) dtype=float32_ref>, <tf.Variable 'classifier/fully_connected/dense/bias:0' shape=(32,) dtype=float32_ref>, <tf.Variable 'classifier/fully_connected/dense_1/kernel:0' shape=(32, 32) dtype=float32_ref>, <tf.Variable 'classifier/fully_connected/dense_1/bias:0' shape=(32,) dtype=float32_ref>, <tf.Variable 'classifier/fully_connected/dense_2/kernel:0' shape=(32, 32) dtype=float32_ref>, <tf.Variable 'classifier/fully_connected/dense_2/bias:0' shape=(32,) dtype=float32_ref>, <tf.Variable 'classifier/dense/kernel:0' shape=(32, 1) dtype=float32_ref>, <tf.Variable 'classifier/dense/bias:0' shape=(1,) dtype=float32_ref>]\n",
      "MI-est Parameters [<tf.Variable 'miner/stat_net/dense/kernel:0' shape=(2, 32) dtype=float32_ref>, <tf.Variable 'miner/stat_net/dense/bias:0' shape=(32,) dtype=float32_ref>, <tf.Variable 'miner/stat_net/dense_1/kernel:0' shape=(32, 32) dtype=float32_ref>, <tf.Variable 'miner/stat_net/dense_1/bias:0' shape=(32,) dtype=float32_ref>, <tf.Variable 'miner/stat_net/dense_2/kernel:0' shape=(32, 32) dtype=float32_ref>, <tf.Variable 'miner/stat_net/dense_2/bias:0' shape=(32,) dtype=float32_ref>, <tf.Variable 'miner/stat_net/dense_3/kernel:0' shape=(32, 1) dtype=float32_ref>, <tf.Variable 'miner/stat_net/dense_3/bias:0' shape=(1,) dtype=float32_ref>]\n"
     ]
    },
    {
     "name": "stderr",
     "output_type": "stream",
     "text": [
      "/usr/local/easybuild/software/Tensorflow/1.13.1-intel-2017.u2-GCC-6.2.0-CUDA10-Python-3.6.4-GPU/lib/python3.6/site-packages/tensorflow/python/client/session.py:1702: UserWarning: An interactive session is already active. This can cause out-of-memory errors in some cases. You must explicitly call `InteractiveSession.close()` to release resources held by the other session(s).\n",
      "  warnings.warn('An interactive session is already active. This can '\n"
     ]
    },
    {
     "name": "stdout",
     "output_type": "stream",
     "text": [
      "MINE: -0.021 | kNN: 0.593 | Accuracy: 0.498 | (1.64 s)\n",
      "MINE: -0.020 | kNN: 0.589 | Accuracy: 0.773 | (1.96 s)\n",
      "MINE: -0.031 | kNN: 0.268 | Accuracy: 0.791 | (2.29 s)\n",
      "MINE: -0.036 | kNN: 0.216 | Accuracy: 0.770 | (2.61 s)\n",
      "MINE: -0.056 | kNN: 0.282 | Accuracy: 0.777 | (2.93 s)\n",
      "MINE: -0.063 | kNN: 0.301 | Accuracy: 0.770 | (3.26 s)\n",
      "MINE: -0.068 | kNN: 0.219 | Accuracy: 0.820 | (3.58 s)\n",
      "MINE: -0.065 | kNN: 0.230 | Accuracy: 0.789 | (3.90 s)\n",
      "MINE: -0.061 | kNN: 0.251 | Accuracy: 0.795 | (4.22 s)\n",
      "MINE: -0.069 | kNN: 0.271 | Accuracy: 0.799 | (4.55 s)\n",
      "MINE: -0.064 | kNN: 0.233 | Accuracy: 0.803 | (4.88 s)\n",
      "MINE: -0.075 | kNN: 0.260 | Accuracy: 0.785 | (5.20 s)\n",
      "MINE: -0.071 | kNN: 0.198 | Accuracy: 0.756 | (5.52 s)\n",
      "MINE: -0.074 | kNN: 0.219 | Accuracy: 0.764 | (5.84 s)\n",
      "MINE: -0.067 | kNN: 0.161 | Accuracy: 0.783 | (6.17 s)\n",
      "MINE: -0.073 | kNN: 0.212 | Accuracy: 0.818 | (6.49 s)\n",
      "MINE: -0.078 | kNN: 0.164 | Accuracy: 0.801 | (6.82 s)\n",
      "MINE: -0.073 | kNN: 0.202 | Accuracy: 0.777 | (7.14 s)\n",
      "MINE: -0.077 | kNN: 0.191 | Accuracy: 0.791 | (7.47 s)\n",
      "MINE: -0.073 | kNN: 0.196 | Accuracy: 0.768 | (7.79 s)\n",
      "MINE: -0.079 | kNN: 0.179 | Accuracy: 0.773 | (8.11 s)\n",
      "MINE: -0.072 | kNN: 0.160 | Accuracy: 0.789 | (8.43 s)\n",
      "MINE: -0.081 | kNN: 0.168 | Accuracy: 0.809 | (8.75 s)\n",
      "MINE: -0.071 | kNN: 0.182 | Accuracy: 0.805 | (9.08 s)\n",
      "MINE: -0.065 | kNN: 0.110 | Accuracy: 0.793 | (9.40 s)\n",
      "MINE: -0.070 | kNN: 0.198 | Accuracy: 0.805 | (9.73 s)\n",
      "MINE: -0.085 | kNN: 0.179 | Accuracy: 0.816 | (10.05 s)\n",
      "MINE: -0.082 | kNN: 0.160 | Accuracy: 0.805 | (10.38 s)\n",
      "MINE: -0.077 | kNN: 0.231 | Accuracy: 0.812 | (10.70 s)\n",
      "MINE: -0.077 | kNN: 0.165 | Accuracy: 0.793 | (11.02 s)\n",
      "MINE: -0.074 | kNN: 0.169 | Accuracy: 0.789 | (11.35 s)\n",
      "MINE: -0.073 | kNN: 0.169 | Accuracy: 0.770 | (11.68 s)\n",
      "MINE: -0.070 | kNN: 0.110 | Accuracy: 0.799 | (12.00 s)\n",
      "MINE: -0.078 | kNN: 0.203 | Accuracy: 0.795 | (12.33 s)\n",
      "MINE: -0.077 | kNN: 0.151 | Accuracy: 0.760 | (12.65 s)\n",
      "MINE: -0.078 | kNN: 0.189 | Accuracy: 0.781 | (12.98 s)\n",
      "MINE: -0.083 | kNN: 0.201 | Accuracy: 0.791 | (13.30 s)\n",
      "MINE: -0.079 | kNN: 0.184 | Accuracy: 0.801 | (13.63 s)\n",
      "MINE: -0.071 | kNN: 0.209 | Accuracy: 0.783 | (13.95 s)\n",
      "MINE: -0.070 | kNN: 0.183 | Accuracy: 0.785 | (14.28 s)\n",
      "Training Complete. Time elapsed: 14.289 s\n"
     ]
    }
   ],
   "source": [
    "sess, model = train(args)"
   ]
  },
  {
   "cell_type": "code",
   "execution_count": 59,
   "metadata": {},
   "outputs": [
    {
     "data": {
      "image/png": "[encoded data removed]",
      "text/plain": [
       "<Figure size 748.8x514.8 with 2 Axes>"
      ]
     },
     "metadata": {},
     "output_type": "display_data"
    }
   ],
   "source": [
    "plot_decision_surface(sess, model, title='Unpenalized Decision Surface')"
   ]
  },
  {
   "cell_type": "markdown",
   "metadata": {},
   "source": [
    "### Switch on MI penalty"
   ]
  },
  {
   "cell_type": "code",
   "execution_count": 92,
   "metadata": {},
   "outputs": [
    {
     "name": "stdout",
     "output_type": "stream",
     "text": [
      "Input X shape (512, 2)\n",
      "joint shape (512, 1)\n",
      "marginal shape (512, 1)\n",
      "Classifier Parameters [<tf.Variable 'classifier/fully_connected/dense/kernel:0' shape=(2, 32) dtype=float32_ref>, <tf.Variable 'classifier/fully_connected/dense/bias:0' shape=(32,) dtype=float32_ref>, <tf.Variable 'classifier/fully_connected/dense_1/kernel:0' shape=(32, 32) dtype=float32_ref>, <tf.Variable 'classifier/fully_connected/dense_1/bias:0' shape=(32,) dtype=float32_ref>, <tf.Variable 'classifier/fully_connected/dense_2/kernel:0' shape=(32, 32) dtype=float32_ref>, <tf.Variable 'classifier/fully_connected/dense_2/bias:0' shape=(32,) dtype=float32_ref>, <tf.Variable 'classifier/dense/kernel:0' shape=(32, 1) dtype=float32_ref>, <tf.Variable 'classifier/dense/bias:0' shape=(1,) dtype=float32_ref>]\n",
      "MI-est Parameters [<tf.Variable 'miner/stat_net/dense/kernel:0' shape=(2, 32) dtype=float32_ref>, <tf.Variable 'miner/stat_net/dense/bias:0' shape=(32,) dtype=float32_ref>, <tf.Variable 'miner/stat_net/dense_1/kernel:0' shape=(32, 32) dtype=float32_ref>, <tf.Variable 'miner/stat_net/dense_1/bias:0' shape=(32,) dtype=float32_ref>, <tf.Variable 'miner/stat_net/dense_2/kernel:0' shape=(32, 32) dtype=float32_ref>, <tf.Variable 'miner/stat_net/dense_2/bias:0' shape=(32,) dtype=float32_ref>, <tf.Variable 'miner/stat_net/dense_3/kernel:0' shape=(32, 1) dtype=float32_ref>, <tf.Variable 'miner/stat_net/dense_3/bias:0' shape=(1,) dtype=float32_ref>]\n"
     ]
    },
    {
     "name": "stderr",
     "output_type": "stream",
     "text": [
      "/usr/local/easybuild/software/Tensorflow/1.13.1-intel-2017.u2-GCC-6.2.0-CUDA10-Python-3.6.4-GPU/lib/python3.6/site-packages/tensorflow/python/client/session.py:1702: UserWarning: An interactive session is already active. This can cause out-of-memory errors in some cases. You must explicitly call `InteractiveSession.close()` to release resources held by the other session(s).\n",
      "  warnings.warn('An interactive session is already active. This can '\n"
     ]
    },
    {
     "name": "stdout",
     "output_type": "stream",
     "text": [
      "MINE: -0.005 | kNN: 0.617 | Accuracy: 0.500 | (3.51 s)\n",
      "MINE: 0.003 | kNN: 0.296 | Accuracy: 0.600 | (5.19 s)\n",
      "MINE: -0.000 | kNN: 0.075 | Accuracy: 0.699 | (6.80 s)\n",
      "MINE: 0.000 | kNN: 0.069 | Accuracy: 0.693 | (8.39 s)\n",
      "MINE: 0.001 | kNN: 0.040 | Accuracy: 0.703 | (9.96 s)\n",
      "MINE: 0.001 | kNN: 0.026 | Accuracy: 0.707 | (11.51 s)\n",
      "MINE: 0.001 | kNN: 0.083 | Accuracy: 0.703 | (13.08 s)\n",
      "MINE: 0.002 | kNN: -0.004 | Accuracy: 0.734 | (14.64 s)\n",
      "MINE: -0.001 | kNN: 0.048 | Accuracy: 0.725 | (16.21 s)\n",
      "MINE: 0.003 | kNN: 0.065 | Accuracy: 0.719 | (17.76 s)\n",
      "MINE: 0.005 | kNN: 0.073 | Accuracy: 0.770 | (19.33 s)\n",
      "MINE: 0.002 | kNN: 0.002 | Accuracy: 0.719 | (20.90 s)\n",
      "MINE: 0.001 | kNN: 0.045 | Accuracy: 0.779 | (22.46 s)\n",
      "MINE: 0.006 | kNN: 0.038 | Accuracy: 0.719 | (24.03 s)\n",
      "MINE: -0.001 | kNN: -0.007 | Accuracy: 0.768 | (25.61 s)\n",
      "MINE: 0.002 | kNN: 0.056 | Accuracy: 0.764 | (27.16 s)\n",
      "MINE: -0.001 | kNN: 0.001 | Accuracy: 0.750 | (28.74 s)\n",
      "MINE: 0.000 | kNN: -0.015 | Accuracy: 0.746 | (30.30 s)\n",
      "MINE: -0.001 | kNN: 0.041 | Accuracy: 0.773 | (31.85 s)\n",
      "MINE: -0.001 | kNN: 0.062 | Accuracy: 0.785 | (33.41 s)\n",
      "MINE: -0.000 | kNN: 0.039 | Accuracy: 0.768 | (34.98 s)\n",
      "MINE: 0.004 | kNN: 0.029 | Accuracy: 0.736 | (36.55 s)\n",
      "MINE: -0.002 | kNN: 0.001 | Accuracy: 0.801 | (38.11 s)\n",
      "MINE: -0.001 | kNN: 0.088 | Accuracy: 0.799 | (39.68 s)\n",
      "MINE: 0.002 | kNN: 0.001 | Accuracy: 0.770 | (41.25 s)\n",
      "MINE: 0.002 | kNN: 0.025 | Accuracy: 0.754 | (42.82 s)\n",
      "MINE: -0.002 | kNN: 0.072 | Accuracy: 0.752 | (44.37 s)\n",
      "MINE: 0.001 | kNN: 0.045 | Accuracy: 0.762 | (45.94 s)\n",
      "MINE: -0.001 | kNN: 0.053 | Accuracy: 0.799 | (47.47 s)\n",
      "MINE: 0.002 | kNN: 0.063 | Accuracy: 0.791 | (49.02 s)\n",
      "MINE: -0.000 | kNN: 0.052 | Accuracy: 0.781 | (50.56 s)\n",
      "MINE: -0.002 | kNN: 0.011 | Accuracy: 0.785 | (52.10 s)\n",
      "MINE: 0.002 | kNN: 0.084 | Accuracy: 0.783 | (53.64 s)\n",
      "MINE: 0.003 | kNN: 0.035 | Accuracy: 0.779 | (55.20 s)\n",
      "MINE: 0.001 | kNN: -0.019 | Accuracy: 0.746 | (56.75 s)\n",
      "MINE: -0.003 | kNN: -0.000 | Accuracy: 0.756 | (58.30 s)\n",
      "MINE: 0.001 | kNN: 0.016 | Accuracy: 0.795 | (59.84 s)\n",
      "MINE: 0.000 | kNN: 0.009 | Accuracy: 0.750 | (61.38 s)\n",
      "MINE: -0.000 | kNN: 0.037 | Accuracy: 0.785 | (62.93 s)\n",
      "MINE: 0.006 | kNN: 0.048 | Accuracy: 0.732 | (64.48 s)\n",
      "Training Complete. Time elapsed: 64.562 s\n"
     ]
    }
   ],
   "source": [
    "sess.close()\n",
    "args.penalty = True\n",
    "args.penalty = 1.0\n",
    "sess_p, model_p = train(args)"
   ]
  },
  {
   "cell_type": "code",
   "execution_count": 93,
   "metadata": {},
   "outputs": [
    {
     "data": {
      "image/png": "[encoded data removed]",
      "text/plain": [
       "<Figure size 748.8x514.8 with 2 Axes>"
      ]
     },
     "metadata": {},
     "output_type": "display_data"
    }
   ],
   "source": [
    "plot_decision_surface(sess_p, model_p, title='Penalized Decision Surface')"
   ]
  },
  {
   "cell_type": "markdown",
   "metadata": {},
   "source": [
    "### Turn $\\lambda$ up a bit"
   ]
  },
  {
   "cell_type": "code",
   "execution_count": 94,
   "metadata": {},
   "outputs": [
    {
     "name": "stdout",
     "output_type": "stream",
     "text": [
      "Input X shape (512, 2)\n",
      "joint shape (512, 1)\n",
      "marginal shape (512, 1)\n",
      "Classifier Parameters [<tf.Variable 'classifier/fully_connected/dense/kernel:0' shape=(2, 32) dtype=float32_ref>, <tf.Variable 'classifier/fully_connected/dense/bias:0' shape=(32,) dtype=float32_ref>, <tf.Variable 'classifier/fully_connected/dense_1/kernel:0' shape=(32, 32) dtype=float32_ref>, <tf.Variable 'classifier/fully_connected/dense_1/bias:0' shape=(32,) dtype=float32_ref>, <tf.Variable 'classifier/fully_connected/dense_2/kernel:0' shape=(32, 32) dtype=float32_ref>, <tf.Variable 'classifier/fully_connected/dense_2/bias:0' shape=(32,) dtype=float32_ref>, <tf.Variable 'classifier/dense/kernel:0' shape=(32, 1) dtype=float32_ref>, <tf.Variable 'classifier/dense/bias:0' shape=(1,) dtype=float32_ref>]\n",
      "MI-est Parameters [<tf.Variable 'miner/stat_net/dense/kernel:0' shape=(2, 32) dtype=float32_ref>, <tf.Variable 'miner/stat_net/dense/bias:0' shape=(32,) dtype=float32_ref>, <tf.Variable 'miner/stat_net/dense_1/kernel:0' shape=(32, 32) dtype=float32_ref>, <tf.Variable 'miner/stat_net/dense_1/bias:0' shape=(32,) dtype=float32_ref>, <tf.Variable 'miner/stat_net/dense_2/kernel:0' shape=(32, 32) dtype=float32_ref>, <tf.Variable 'miner/stat_net/dense_2/bias:0' shape=(32,) dtype=float32_ref>, <tf.Variable 'miner/stat_net/dense_3/kernel:0' shape=(32, 1) dtype=float32_ref>, <tf.Variable 'miner/stat_net/dense_3/bias:0' shape=(1,) dtype=float32_ref>]\n"
     ]
    },
    {
     "name": "stderr",
     "output_type": "stream",
     "text": [
      "/usr/local/easybuild/software/Tensorflow/1.13.1-intel-2017.u2-GCC-6.2.0-CUDA10-Python-3.6.4-GPU/lib/python3.6/site-packages/tensorflow/python/client/session.py:1702: UserWarning: An interactive session is already active. This can cause out-of-memory errors in some cases. You must explicitly call `InteractiveSession.close()` to release resources held by the other session(s).\n",
      "  warnings.warn('An interactive session is already active. This can '\n"
     ]
    },
    {
     "name": "stdout",
     "output_type": "stream",
     "text": [
      "MINE: -0.000 | kNN: 0.265 | Accuracy: 0.541 | (3.33 s)\n",
      "MINE: 0.000 | kNN: 0.051 | Accuracy: 0.592 | (5.03 s)\n",
      "MINE: 0.003 | kNN: 0.112 | Accuracy: 0.629 | (6.63 s)\n",
      "MINE: 0.002 | kNN: 0.105 | Accuracy: 0.691 | (8.24 s)\n",
      "MINE: 0.003 | kNN: 0.160 | Accuracy: 0.699 | (9.83 s)\n",
      "MINE: 0.003 | kNN: 0.032 | Accuracy: 0.729 | (11.41 s)\n",
      "MINE: 0.000 | kNN: 0.068 | Accuracy: 0.744 | (13.00 s)\n",
      "MINE: 0.001 | kNN: 0.053 | Accuracy: 0.754 | (14.59 s)\n",
      "MINE: 0.001 | kNN: 0.075 | Accuracy: 0.732 | (16.20 s)\n",
      "MINE: 0.001 | kNN: 0.063 | Accuracy: 0.760 | (17.76 s)\n",
      "MINE: -0.003 | kNN: 0.049 | Accuracy: 0.770 | (19.32 s)\n",
      "MINE: 0.001 | kNN: 0.068 | Accuracy: 0.770 | (20.87 s)\n",
      "MINE: 0.003 | kNN: 0.113 | Accuracy: 0.762 | (22.43 s)\n",
      "MINE: 0.004 | kNN: 0.089 | Accuracy: 0.752 | (23.98 s)\n",
      "MINE: 0.002 | kNN: 0.140 | Accuracy: 0.781 | (25.54 s)\n",
      "MINE: -0.000 | kNN: 0.058 | Accuracy: 0.771 | (27.10 s)\n",
      "MINE: 0.003 | kNN: 0.126 | Accuracy: 0.730 | (28.66 s)\n",
      "MINE: 0.003 | kNN: 0.139 | Accuracy: 0.760 | (30.21 s)\n",
      "MINE: 0.003 | kNN: 0.134 | Accuracy: 0.764 | (31.77 s)\n",
      "MINE: 0.008 | kNN: 0.139 | Accuracy: 0.764 | (33.35 s)\n",
      "MINE: -0.001 | kNN: 0.151 | Accuracy: 0.768 | (34.91 s)\n",
      "MINE: -0.001 | kNN: 0.072 | Accuracy: 0.777 | (36.46 s)\n",
      "MINE: -0.001 | kNN: 0.099 | Accuracy: 0.797 | (38.03 s)\n",
      "MINE: 0.001 | kNN: 0.099 | Accuracy: 0.781 | (39.58 s)\n",
      "MINE: 0.001 | kNN: 0.081 | Accuracy: 0.762 | (41.13 s)\n",
      "MINE: 0.003 | kNN: 0.083 | Accuracy: 0.805 | (42.70 s)\n",
      "MINE: 0.001 | kNN: 0.056 | Accuracy: 0.777 | (44.26 s)\n",
      "MINE: -0.001 | kNN: 0.046 | Accuracy: 0.764 | (45.81 s)\n",
      "MINE: 0.002 | kNN: -0.002 | Accuracy: 0.783 | (47.38 s)\n",
      "MINE: 0.004 | kNN: 0.053 | Accuracy: 0.785 | (48.94 s)\n",
      "MINE: -0.000 | kNN: 0.013 | Accuracy: 0.764 | (50.49 s)\n",
      "MINE: -0.001 | kNN: 0.065 | Accuracy: 0.754 | (52.05 s)\n",
      "MINE: 0.003 | kNN: 0.116 | Accuracy: 0.787 | (53.61 s)\n",
      "MINE: 0.001 | kNN: 0.062 | Accuracy: 0.777 | (55.17 s)\n",
      "MINE: 0.003 | kNN: 0.092 | Accuracy: 0.770 | (56.74 s)\n",
      "MINE: 0.003 | kNN: 0.086 | Accuracy: 0.754 | (58.31 s)\n",
      "MINE: -0.001 | kNN: 0.038 | Accuracy: 0.775 | (59.86 s)\n",
      "MINE: -0.003 | kNN: 0.018 | Accuracy: 0.768 | (61.43 s)\n",
      "MINE: -0.001 | kNN: 0.038 | Accuracy: 0.764 | (62.99 s)\n",
      "MINE: -0.002 | kNN: 0.071 | Accuracy: 0.764 | (64.56 s)\n",
      "Training Complete. Time elapsed: 64.639 s\n"
     ]
    }
   ],
   "source": [
    "sess_p.close()\n",
    "args.penalty = True\n",
    "args.lambda_MI = 10.0\n",
    "MI_iters = 4\n",
    "sess_p, model_p = train(args)"
   ]
  },
  {
   "cell_type": "code",
   "execution_count": 95,
   "metadata": {},
   "outputs": [
    {
     "data": {
      "image/png": "[encoded data removed]",
      "text/plain": [
       "<Figure size 748.8x514.8 with 2 Axes>"
      ]
     },
     "metadata": {},
     "output_type": "display_data"
    }
   ],
   "source": [
    "plot_decision_surface(sess_p, model_p, title='Penalized Decision Surface, $\\lambda=10$')"
   ]
  },
  {
   "cell_type": "code",
   "execution_count": null,
   "metadata": {},
   "outputs": [],
   "source": []
  }
 ],
 "metadata": {
  "kernelspec": {
   "display_name": "Python 3",
   "language": "python",
   "name": "python3"
  },
  "language_info": {
   "codemirror_mode": {
    "name": "ipython",
    "version": 3
   },
   "file_extension": ".py",
   "mimetype": "text/x-python",
   "name": "python",
   "nbconvert_exporter": "python",
   "pygments_lexer": "ipython3",
   "version": "3.6.8"
  }
 },
 "nbformat": 4,
 "nbformat_minor": 2
}
